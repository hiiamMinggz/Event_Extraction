{
 "cells": [
  {
   "cell_type": "code",
   "execution_count": 4,
   "metadata": {},
   "outputs": [
    {
     "name": "stdout",
     "output_type": "stream",
     "text": [
      "Counter({'messi': 4, 'quả': 4, 'bóng': 4, 'của': 4, 'là': 4, 'giải': 4, 'thứ': 3, '8': 3, 'giành': 3, 'đã': 3, 'vàng': 3, 'sự': 3, 'người': 3, 'lionel': 2, 'lần': 2, 'vĩ': 2, 'đại': 2, 'danh': 2, 'hiệu': 2, 'đây': 2, 'el': 2, 'pulga': 2, 'thưởng': 2, 'này.': 2, 'số': 2, 'cho': 2, 'sao': 2, 'trao': 2, 'ra': 2, 'vào': 2, 'và': 2, 'trong': 2, 'nghiệp': 2, 'vàng,': 1, 'lập': 1, 'kỷ': 1, 'lục': 1, 'vượt': 1, 'qua': 1, 'haaland': 1, 'để': 1, 'trở': 1, 'thành': 1, 'chủ': 1, 'nhân': 1, '2023.': 1, 'một': 1, 'con': 1, 'thấy': 1, 'ngôi': 1, 'argentina': 1, 'không': 1, 'nằm': 1, 'ngoài': 1, 'dự': 1, 'đoán,': 1, '2023': 1, 'tạp': 1, 'chí': 1, 'france': 1, 'football.': 1, 'buổi': 1, 'lễ': 1, 'cao': 1, 'quý': 1, 'này': 1, 'diễn': 1, 'ở': 1, 'nhà': 1, 'hát': 1, 'chatelet': 1, '(paris,': 1, 'pháp)': 1, 'đêm': 1, 'qua.': 1, 'điều': 1, 'đặc': 1, 'biệt,': 1, 'xướng': 1, 'tên': 1, 'david': 1, 'beckham,': 1, 'đồng': 1, 'sở': 1, 'hữu': 1, 'clb': 1, 'inter': 1, 'miami.': 1, 'chính': 1, 'beckham': 1, 'có': 1, 'công': 1, 'lớn': 1, 'nhất': 1, 'đưa': 1, 'sang': 1, 'mỹ': 1, 'thi': 1, 'đấu,': 1, 'mở': 1, 'chương': 1, 'mới': 1, 'đầy': 1, 'thú': 1, 'vị': 1, 'cầu': 1, 'thủ': 1, 'messi.': 1, 'trước': 1, 'đó,': 1, 'siêu': 1, '10': 1, 'đăng': 1, 'quang': 1, 'các': 1, 'năm': 1, '2009,': 1, '2010,': 1, '2011,': 1, '2012,': 1, '2015,': 1, '2019': 1, '2021.': 1})\n"
     ]
    }
   ],
   "source": [
    "from underthesea import word_tokenize\n",
    "from collections import Counter\n",
    "\n",
    "string1 = 'lionel messi lần thứ 8 giành quả bóng vàng, lập kỷ lục vĩ đại'\n",
    "string2 = 'messi đã vượt qua haaland để trở thành chủ nhân của danh hiệu quả bóng vàng 2023. đây là lần thứ 8 el pulga giành giải thưởng này. một con số cho thấy sự vĩ đại của ngôi sao người argentina'\n",
    "list1 = ['không nằm ngoài dự đoán, lionel messi đã giành giải quả bóng vàng 2023 của tạp chí france football. buổi lễ trao giải thưởng cao quý này diễn ra ở nhà hát chatelet (paris, pháp) vào đêm qua.',\n",
    "         ' điều đặc biệt, người xướng tên và trao giải cho messi là david beckham, đồng sở hữu clb inter miami. chính beckham là người có công lớn nhất đưa el pulga sang mỹ thi đấu, mở ra chương mới đầy thú vị trong sự nghiệp cầu thủ này. ',\n",
    "         ' đây là danh hiệu quả bóng vàng thứ 8 trong sự nghiệp của messi. trước đó, siêu sao số 10 đã đăng quang vào các năm 2009, 2010, 2011, 2012, 2015, 2019 và 2021.']\n",
    "\n",
    "# Tạo một list chứa tất cả các từ từ cả 3 nguồn\n",
    "all_words = (string1 + ' ' + string2 + ' ' + ' '.join(list1)).split()\n",
    "\n",
    "# Sử dụng Counter để đếm tần suất xuất hiện của từng từ\n",
    "word_counts = Counter(all_words)\n",
    "\n",
    "# Hiển thị dict kết quả\n",
    "print(word_counts)\n"
   ]
  },
  {
   "cell_type": "code",
   "execution_count": 14,
   "metadata": {},
   "outputs": [
    {
     "name": "stdout",
     "output_type": "stream",
     "text": [
      "Counter({'messi': 5, 'quả': 4, 'bóng': 4, 'vàng': 4, 'của': 4, 'là': 4, 'giải': 4, 'thứ': 3, '8': 3, 'giành': 3, 'đã': 3, 'này': 3, 'sự': 3, 'người': 3, 'lionel': 2, 'lần': 2, 'vĩ': 2, 'đại': 2, 'qua': 2, 'danh': 2, 'hiệu': 2, '2023': 2, 'đây': 2, 'el': 2, 'pulga': 2, 'thưởng': 2, 'số': 2, 'cho': 2, 'sao': 2, 'trao': 2, 'ra': 2, 'vào': 2, 'và': 2, 'beckham': 2, 'trong': 2, 'nghiệp': 2, 'lập': 1, 'kỷ': 1, 'lục': 1, 'dân': 1, 'trí': 1, 'vượt': 1, 'haaland': 1, 'để': 1, 'trở': 1, 'thành': 1, 'chủ': 1, 'nhân': 1, 'một': 1, 'con': 1, 'thấy': 1, 'ngôi': 1, 'argentina': 1, 'không': 1, 'nằm': 1, 'ngoài': 1, 'dự': 1, 'đoán': 1, 'tạp': 1, 'chí': 1, 'france': 1, 'football': 1, 'buổi': 1, 'lễ': 1, 'cao': 1, 'quý': 1, 'diễn': 1, 'ở': 1, 'nhà': 1, 'hát': 1, 'chatelet': 1, 'paris': 1, 'pháp': 1, 'đêm': 1, 'điều': 1, 'đặc': 1, 'biệt': 1, 'xướng': 1, 'tên': 1, 'david': 1, 'đồng': 1, 'sở': 1, 'hữu': 1, 'clb': 1, 'inter': 1, 'miami': 1, 'chính': 1, 'có': 1, 'công': 1, 'lớn': 1, 'nhất': 1, 'đưa': 1, 'sang': 1, 'mỹ': 1, 'thi': 1, 'đấu': 1, 'mở': 1, 'chương': 1, 'mới': 1, 'đầy': 1, 'thú': 1, 'vị': 1, 'cầu': 1, 'thủ': 1, 'trước': 1, 'đó': 1, 'siêu': 1, '10': 1, 'đăng': 1, 'quang': 1, 'các': 1, 'năm': 1, '2009': 1, '2010': 1, '2011': 1, '2012': 1, '2015': 1, '2019': 1, '2021': 1})\n"
     ]
    }
   ],
   "source": [
    "from collections import Counter\n",
    "import re\n",
    "\n",
    "def count_word_frequency(*texts):\n",
    "    combined_text = \" \".join(texts)\n",
    "    words = re.findall(r'\\b\\w+\\b', combined_text.lower())\n",
    "    return Counter(words)\n",
    "\n",
    "# Ví dụ\n",
    "string1 = 'lionel messi lần thứ 8 giành quả bóng vàng lập kỷ lục vĩ đại'\n",
    "string2 = 'dân trí  messi đã vượt qua haaland để trở thành chủ nhân của danh hiệu quả bóng vàng 2023 đây là lần thứ 8 el pulga giành giải thưởng này một con số cho thấy sự vĩ đại của ngôi sao người argentina'\n",
    "list1 = ['không nằm ngoài dự đoán lionel messi đã giành giải quả bóng vàng 2023 của tạp chí france football buổi lễ trao giải thưởng cao quý này diễn ra ở nhà hát chatelet paris pháp vào đêm qua', ' điều đặc biệt người xướng tên và trao giải cho messi là david beckham đồng sở hữu clb inter miami chính beckham là người có công lớn nhất đưa el pulga sang mỹ thi đấu mở ra chương mới đầy thú vị trong sự nghiệp cầu thủ này ', ' đây là danh hiệu quả bóng vàng thứ 8 trong sự nghiệp của messi trước đó siêu sao số 10 đã đăng quang vào các năm 2009 2010 2011 2012 2015 2019 và 2021']\n",
    "\n",
    "frequency = count_word_frequency(string1, string2, *list1)\n",
    "print(frequency)\n"
   ]
  },
  {
   "cell_type": "code",
   "execution_count": 18,
   "metadata": {},
   "outputs": [],
   "source": [
    "\n",
    "def longest_common_substring_word_level(str1, str2):\n",
    "    # Tách từ trong hai chuỗi\n",
    "    words1 = str1.split()\n",
    "    words2 = str2.split()\n",
    "\n",
    "    # Tạo một ma trận để lưu độ dài của chuỗi con chung\n",
    "    matrix = [[0] * (len(words2) + 1) for _ in range(len(words1) + 1)]\n",
    "\n",
    "    # Biến lưu độ dài của chuỗi con dài nhất và chỉ mục của nó trong words1\n",
    "    max_length = 0\n",
    "    end_index = 0\n",
    "\n",
    "    for i in range(1, len(words1) + 1):\n",
    "        for j in range(1, len(words2) + 1):\n",
    "            if words1[i - 1] == words2[j - 1]:\n",
    "                matrix[i][j] = matrix[i - 1][j - 1] + 1\n",
    "                if matrix[i][j] > max_length:\n",
    "                    max_length = matrix[i][j]\n",
    "                    end_index = i - 1\n",
    "            else:\n",
    "                matrix[i][j] = 0\n",
    "\n",
    "    # Tìm chuỗi con dài nhất bằng cách trích xuất nó từ words1\n",
    "    if max_length > 0:\n",
    "        start_index = end_index - max_length + 1\n",
    "        longest_substring = \" \".join(words1[start_index:end_index + 1])\n",
    "    else:\n",
    "        longest_substring = \"\"\n",
    "\n",
    "    return longest_substring\n",
    "\n"
   ]
  },
  {
   "cell_type": "code",
   "execution_count": 34,
   "metadata": {},
   "outputs": [],
   "source": [
    "string1 = 'lionel messi lần thứ 8 giành quả bóng vàng lập kỷ lục vĩ đại'\n",
    "list1 = ['không nằm ngoài dự đoán lionel messi đã giành giải quả bóng vàng 2023 của tạp chí france football buổi lễ trao giải thưởng cao quý này diễn ra ở nhà hát chatelet paris pháp vào đêm qua', ' điều đặc biệt người xướng tên và trao giải cho messi là david beckham đồng sở hữu clb inter miami chính beckham là người có công lớn nhất đưa el pulga sang mỹ thi đấu mở ra chương mới đầy thú vị trong sự nghiệp cầu thủ này ', ' đây là danh hiệu quả bóng vàng thứ 8 trong sự nghiệp của messi trước đó siêu sao số 10 đã đăng quang vào các năm 2009 2010 2011 2012 2015 2019 và 2021','messi đã vượt qua haaland để trở thành chủ nhân của danh hiệu quả bóng vàng 2023 đây là lần thứ 8 el pulga giành giải thưởng này một con số cho thấy sự vĩ đại của ngôi sao người argentina']\n"
   ]
  },
  {
   "cell_type": "code",
   "execution_count": 35,
   "metadata": {},
   "outputs": [],
   "source": [
    "substrings = []\n",
    "for string in list1:\n",
    "    common = longest_common_substring_word_level(string1, string)\n",
    "    substrings.append(common)\n",
    "        "
   ]
  },
  {
   "cell_type": "code",
   "execution_count": 36,
   "metadata": {},
   "outputs": [
    {
     "data": {
      "text/plain": [
       "['quả bóng vàng', 'messi', 'quả bóng vàng', 'lần thứ 8']"
      ]
     },
     "execution_count": 36,
     "metadata": {},
     "output_type": "execute_result"
    }
   ],
   "source": [
    "substrings"
   ]
  },
  {
   "cell_type": "code",
   "execution_count": 37,
   "metadata": {},
   "outputs": [
    {
     "data": {
      "text/plain": [
       "'lionel messi lần thứ 8 giành quả bóng vàng lập kỷ lục vĩ đạikhông nằm ngoài dự đoán lionel messi đã giành giải quả bóng vàng 2023 của tạp chí france football buổi lễ trao giải thưởng cao quý này diễn ra ở nhà hát chatelet paris pháp vào đêm qua điều đặc biệt người xướng tên và trao giải cho messi là david beckham đồng sở hữu clb inter miami chính beckham là người có công lớn nhất đưa el pulga sang mỹ thi đấu mở ra chương mới đầy thú vị trong sự nghiệp cầu thủ này  đây là danh hiệu quả bóng vàng thứ 8 trong sự nghiệp của messi trước đó siêu sao số 10 đã đăng quang vào các năm 2009 2010 2011 2012 2015 2019 và 2021messi đã vượt qua haaland để trở thành chủ nhân của danh hiệu quả bóng vàng 2023 đây là lần thứ 8 el pulga giành giải thưởng này một con số cho thấy sự vĩ đại của ngôi sao người argentina'"
      ]
     },
     "execution_count": 37,
     "metadata": {},
     "output_type": "execute_result"
    }
   ],
   "source": [
    "whole_string = string1 + ''.join(list1)\n",
    "whole_string"
   ]
  },
  {
   "cell_type": "code",
   "execution_count": 42,
   "metadata": {},
   "outputs": [
    {
     "name": "stdout",
     "output_type": "stream",
     "text": [
      "{'messi': 1, 'quả bóng vàng': 0, 'lần thứ 8': 0}\n"
     ]
    }
   ],
   "source": [
    "from collections import Counter\n",
    "\n",
    "def count_word_occurrences(text, word_list):\n",
    "    # Chuyển đổi văn bản thành danh sách các từ (loại bỏ dấu câu và chuyển về chữ thường)\n",
    "    words = [word.lower() for word in text.split()]\n",
    "\n",
    "    # Đếm số lần xuất hiện của từng từ\n",
    "    word_counts = Counter(words)\n",
    "\n",
    "    # Tạo một từ điển với số lần xuất hiện của từng từ trong danh sách\n",
    "    result = {word: word_counts[word] for word in word_list}\n",
    "\n",
    "    return result\n",
    "\n",
    "# Ví dụ sử dụng\n",
    "list1 = ['messi', 'quả bóng vàng', 'lần thứ 8']\n",
    "string = 'lionel messi lần thứ 8 giành quả bóng vàng, lập kỷ lục vĩ đại...'\n",
    "\n",
    "result = count_word_occurrences(string, list1)\n",
    "print(result)\n"
   ]
  },
  {
   "cell_type": "code",
   "execution_count": 4,
   "metadata": {},
   "outputs": [
    {
     "name": "stdout",
     "output_type": "stream",
     "text": [
      "{'messi': 1, 'vàng': 1, 'lần': 1}\n"
     ]
    }
   ],
   "source": [
    "def count_substring_occurrences(main_string, substrings):\n",
    "    # Chuyển đổi main_string và substrings sang chữ thường để đảm bảo tính nhất quán\n",
    "\n",
    "    # Tạo một từ điển với key là substring và value là số lần xuất hiện\n",
    "    occurrences_dict = {substring: main_string.count(substring) for substring in substrings}\n",
    "    \n",
    "    return occurrences_dict\n",
    "\n",
    "# Ví dụ sử dụng\n",
    "main_string = 'lionel messi lần thứ 8 giành quả bóng vàng , lập kỷ lục vĩ đại...'\n",
    "substrings_to_count = ['messi', 'vàng', 'lần']\n",
    "\n",
    "occurrences_dict = count_substring_occurrences(main_string, substrings_to_count)\n",
    "print(occurrences_dict)\n"
   ]
  },
  {
   "cell_type": "code",
   "execution_count": 5,
   "metadata": {},
   "outputs": [
    {
     "name": "stdout",
     "output_type": "stream",
     "text": [
      "[(1, 1), (1, 2), (1, 3), (1, 4), (2, 1), (2, 2), (2, 3), (2, 4), (3, 1), (3, 2), (3, 3), (3, 4), (4, 1), (4, 2), (4, 3), (4, 4)]\n"
     ]
    }
   ],
   "source": [
    "from itertools import product\n",
    "\n",
    "my_list = [1, 2, 3, 4]\n",
    "\n",
    "combinations = list(product(my_list, repeat=2))\n",
    "print(combinations)\n"
   ]
  },
  {
   "cell_type": "code",
   "execution_count": 7,
   "metadata": {},
   "outputs": [
    {
     "name": "stdout",
     "output_type": "stream",
     "text": [
      "[(1, 2), (1, 3), (1, 4), (2, 1), (2, 3), (2, 4), (3, 1), (3, 2), (3, 4), (4, 1), (4, 2), (4, 3)]\n"
     ]
    }
   ],
   "source": [
    "from itertools import product\n",
    "\n",
    "my_list = [1, 2, 3, 4]\n",
    "\n",
    "combinations = list(product(my_list, repeat=2))\n",
    "\n",
    "filtered_combinations = [(x, y) for x, y in combinations if x != y]\n",
    "\n",
    "print(filtered_combinations)\n"
   ]
  },
  {
   "cell_type": "code",
   "execution_count": 12,
   "metadata": {},
   "outputs": [
    {
     "name": "stdout",
     "output_type": "stream",
     "text": [
      "messi lần thứ 8 giành quả bóng vàng\n"
     ]
    }
   ],
   "source": [
    "def get_substring_by_value(input_str, start_value, end_value):\n",
    "    start_index = input_str.find(start_value)\n",
    "    end_index = input_str.find(end_value, start_index) + len(end_value)\n",
    "    \n",
    "    return input_str[start_index:end_index]\n",
    "\n",
    "# Ví dụ sử dụng\n",
    "original_string = \"lionel messi lần thứ 8 giành quả bóng vàng , lập kỷ lục vĩ đại\"\n",
    "start_value = \"messi\"\n",
    "end_value = \"quả bóng vàng\"\n",
    "\n",
    "result = get_substring_by_value(original_string, start_value, end_value)\n",
    "print(result)\n"
   ]
  },
  {
   "cell_type": "code",
   "execution_count": 4,
   "metadata": {},
   "outputs": [
    {
     "name": "stdout",
     "output_type": "stream",
     "text": [
      "True\n",
      "False\n"
     ]
    }
   ],
   "source": [
    "def has_title_case_word(input_str):\n",
    "    words = input_str.split()\n",
    "    for word in words:\n",
    "        if word.istitle():\n",
    "            return True\n",
    "    return False\n",
    "\n",
    "# Ví dụ sử dụng\n",
    "text1 = \"Nga bất ngờ\"\n",
    "text2 = \"vĩ đại\"\n",
    "\n",
    "print(has_title_case_word(text1))  # Kết quả: True\n",
    "print(has_title_case_word(text2))  # Kết quả: False\n"
   ]
  },
  {
   "cell_type": "code",
   "execution_count": 7,
   "metadata": {},
   "outputs": [
    {
     "data": {
      "text/plain": [
       "'Ukraine nghi bị tập kích bằng tên lửa'"
      ]
     },
     "execution_count": 7,
     "metadata": {},
     "output_type": "execute_result"
    }
   ],
   "source": [
    "\n",
    "\n",
    "def get_title_case_position(text: str):\n",
    "    for word in string.split():\n",
    "        if word.istitle():\n",
    "            return text[text.index(word):]\n",
    "\n",
    "get_title_case_position(text = 'đô Ukraine nghi bị tập kích bằng tên lửa')"
   ]
  },
  {
   "cell_type": "code",
   "execution_count": 1,
   "metadata": {},
   "outputs": [
    {
     "name": "stderr",
     "output_type": "stream",
     "text": [
      "/mnt/wsl/PHYSICALDRIVE0p1/anaconda3/envs/event_module/lib/python3.9/site-packages/tqdm/auto.py:21: TqdmWarning: IProgress not found. Please update jupyter and ipywidgets. See https://ipywidgets.readthedocs.io/en/stable/user_install.html\n",
      "  from .autonotebook import tqdm as notebook_tqdm\n"
     ]
    }
   ],
   "source": [
    "\n",
    "from transformers import AutoTokenizer, AutoModelForTokenClassification\n",
    "from transformers import pipeline\n",
    "\n",
    "tokenizer = AutoTokenizer.from_pretrained(\"NlpHUST/ner-vietnamese-electra-base\")\n",
    "model = AutoModelForTokenClassification.from_pretrained(\"NlpHUST/ner-vietnamese-electra-base\")\n",
    "\n",
    "nlp = pipeline(\"ner\", model=model, tokenizer=tokenizer)\n"
   ]
  },
  {
   "cell_type": "code",
   "execution_count": 25,
   "metadata": {},
   "outputs": [
    {
     "data": {
      "text/plain": [
       "('model/tokenizer_config.json',\n",
       " 'model/special_tokens_map.json',\n",
       " 'model/vocab.txt',\n",
       " 'model/added_tokens.json',\n",
       " 'model/tokenizer.json')"
      ]
     },
     "execution_count": 25,
     "metadata": {},
     "output_type": "execute_result"
    }
   ],
   "source": [
    "tokenizer.save_pretrained('model')"
   ]
  },
  {
   "cell_type": "code",
   "execution_count": 26,
   "metadata": {},
   "outputs": [],
   "source": [
    "model.save_pretrained('model')"
   ]
  },
  {
   "cell_type": "code",
   "execution_count": 48,
   "metadata": {},
   "outputs": [
    {
     "data": {
      "text/plain": [
       "{'input_ids': [2, 868, 1473, 3], 'token_type_ids': [0, 0, 0, 0], 'attention_mask': [1, 1, 1, 1]}"
      ]
     },
     "execution_count": 48,
     "metadata": {},
     "output_type": "execute_result"
    }
   ],
   "source": [
    "example = \"xin chào\"\n",
    "tokenzied_example = tokenizer(example)\n",
    "tokenzied_example"
   ]
  },
  {
   "cell_type": "code",
   "execution_count": 54,
   "metadata": {},
   "outputs": [],
   "source": [
    "from transformers import ElectraModel\n",
    "model_2 = ElectraModel.from_pretrained('model')"
   ]
  },
  {
   "cell_type": "code",
   "execution_count": null,
   "metadata": {},
   "outputs": [],
   "source": []
  },
  {
   "cell_type": "code",
   "execution_count": 43,
   "metadata": {},
   "outputs": [],
   "source": [
    "import torch"
   ]
  },
  {
   "cell_type": "code",
   "execution_count": 50,
   "metadata": {},
   "outputs": [],
   "source": [
    "input_ids = torch.tensor([tokenzied_example['input_ids']])\n",
    "att_masks = torch.tensor([tokenzied_example['attention_mask']])"
   ]
  },
  {
   "cell_type": "code",
   "execution_count": 55,
   "metadata": {},
   "outputs": [
    {
     "data": {
      "text/plain": [
       "BaseModelOutputWithPastAndCrossAttentions(last_hidden_state=tensor([[[-0.2942, -0.5184, -0.6392,  ...,  0.2698, -0.5734, -0.1930],\n",
       "         [ 0.4605, -0.4918,  0.3487,  ...,  0.0414,  0.3998, -0.3301],\n",
       "         [ 0.8633, -0.6330,  0.2232,  ...,  0.1070,  0.2580, -0.0031],\n",
       "         [-0.2953, -0.5179, -0.6399,  ...,  0.2684, -0.5704, -0.1959]]],\n",
       "       grad_fn=<NativeLayerNormBackward0>), past_key_values=None, hidden_states=None, attentions=None, cross_attentions=None)"
      ]
     },
     "execution_count": 55,
     "metadata": {},
     "output_type": "execute_result"
    }
   ],
   "source": [
    "model_2(input_ids)"
   ]
  },
  {
   "cell_type": "code",
   "execution_count": 35,
   "metadata": {},
   "outputs": [
    {
     "name": "stdout",
     "output_type": "stream",
     "text": [
      "[('Quả bóng vàng', 'Argentina'), ('Quả bóng vàng', 'Messi'), ('Quả bóng vàng', 'Beckham'), ('Quả bóng vàng', 'Inter Miami'), ('Quả bóng vàng', 'thành phố Miami'), ('Quả bóng vàng', 'Miami'), ('Quả bóng vàng', 'Aitana Bonmati'), ('Quả bóng vàng', 'Barcelona'), ('Quả bóng vàng', 'Tây Ban Nha'), ('Quả bóng vàng', 'Lev Yashin'), ('Quả bóng vàng', 'Emiliano Martinez'), ('Quả bóng vàng', 'Jude Bellingham'), ('Quả bóng vàng', 'người Anh'), ('Quả bóng vàng', 'Real Madrid'), ('Messi', 'Argentina'), ('Messi', 'Messi'), ('Messi', 'Beckham'), ('Messi', 'Inter Miami'), ('Messi', 'thành phố Miami'), ('Messi', 'Miami'), ('Messi', 'Aitana Bonmati'), ('Messi', 'Barcelona'), ('Messi', 'Tây Ban Nha'), ('Messi', 'Lev Yashin'), ('Messi', 'Emiliano Martinez'), ('Messi', 'Jude Bellingham'), ('Messi', 'người Anh'), ('Messi', 'Real Madrid'), ('Quả bóng', 'Argentina'), ('Quả bóng', 'Messi'), ('Quả bóng', 'Beckham'), ('Quả bóng', 'Inter Miami'), ('Quả bóng', 'thành phố Miami'), ('Quả bóng', 'Miami'), ('Quả bóng', 'Aitana Bonmati'), ('Quả bóng', 'Barcelona'), ('Quả bóng', 'Tây Ban Nha'), ('Quả bóng', 'Lev Yashin'), ('Quả bóng', 'Emiliano Martinez'), ('Quả bóng', 'Jude Bellingham'), ('Quả bóng', 'người Anh'), ('Quả bóng', 'Real Madrid'), ('giành Quả bóng', 'Argentina'), ('giành Quả bóng', 'Messi'), ('giành Quả bóng', 'Beckham'), ('giành Quả bóng', 'Inter Miami'), ('giành Quả bóng', 'thành phố Miami'), ('giành Quả bóng', 'Miami'), ('giành Quả bóng', 'Aitana Bonmati'), ('giành Quả bóng', 'Barcelona'), ('giành Quả bóng', 'Tây Ban Nha'), ('giành Quả bóng', 'Lev Yashin'), ('giành Quả bóng', 'Emiliano Martinez'), ('giành Quả bóng', 'Jude Bellingham'), ('giành Quả bóng', 'người Anh'), ('giành Quả bóng', 'Real Madrid')]\n"
     ]
    }
   ],
   "source": [
    "list1 = ['Quả bóng vàng', 'Messi', 'Quả bóng', 'giành Quả bóng']\n",
    "list2 = ['Argentina', 'Messi', 'Beckham', 'Inter Miami', 'thành phố Miami', 'Miami', 'Aitana Bonmati', 'Barcelona', 'Tây Ban Nha', 'Lev Yashin', 'Emiliano Martinez', 'Jude Bellingham', 'người Anh', 'Real Madrid']\n",
    "\n",
    "combinations = []\n",
    "\n",
    "for item1 in list1:\n",
    "    for item2 in list2:\n",
    "        combinations.append((item1, item2))\n",
    "\n",
    "print(combinations)\n"
   ]
  },
  {
   "cell_type": "code",
   "execution_count": 58,
   "metadata": {},
   "outputs": [
    {
     "data": {
      "text/plain": [
       "{'a': 0, 'b': 1, 'c': 2}"
      ]
     },
     "execution_count": 58,
     "metadata": {},
     "output_type": "execute_result"
    }
   ],
   "source": [
    "list1 = ['a','b','c']\n",
    "list2 = [i for i in range(len(list1))]\n",
    "tmp = dict(zip(list1, list2))\n",
    "tmp"
   ]
  },
  {
   "cell_type": "code",
   "execution_count": 59,
   "metadata": {},
   "outputs": [],
   "source": [
    "import torch\n",
    "from transformers import BertTokenizer,BertModel"
   ]
  },
  {
   "cell_type": "code",
   "execution_count": 66,
   "metadata": {},
   "outputs": [
    {
     "name": "stderr",
     "output_type": "stream",
     "text": [
      "The tokenizer class you load from this checkpoint is not the same type as the class this function is called from. It may result in unexpected tokenization. \n",
      "The tokenizer class you load from this checkpoint is 'RobertaTokenizer'. \n",
      "The class this function is called from is 'BertTokenizer'.\n"
     ]
    }
   ],
   "source": [
    "tokenizer= BertTokenizer.from_pretrained(\"NlpHUST/vibert4news-base-cased\")\n",
    "bert_model = BertModel.from_pretrained(\"NlpHUST/vibert4news-base-cased\")"
   ]
  },
  {
   "cell_type": "code",
   "execution_count": 69,
   "metadata": {},
   "outputs": [],
   "source": [
    "tokenizer.save_pretrained('model/BERT/')\n",
    "bert_model.save_pretrained('model/BERT/')\n"
   ]
  },
  {
   "cell_type": "code",
   "execution_count": 67,
   "metadata": {},
   "outputs": [
    {
     "data": {
      "text/plain": [
       "{'input_ids': [2, 2681, 1473, 48, 35, 3], 'token_type_ids': [0, 0, 0, 0, 0, 0], 'attention_mask': [1, 1, 1, 1, 1, 1]}"
      ]
     },
     "execution_count": 67,
     "metadata": {},
     "output_type": "execute_result"
    }
   ],
   "source": [
    "example = \"Xin chào Việt Nam\"\n",
    "tokenzied_example = tokenizer(example)\n",
    "tokenzied_example"
   ]
  },
  {
   "cell_type": "code",
   "execution_count": 64,
   "metadata": {},
   "outputs": [],
   "source": [
    "input_ids = torch.tensor([tokenzied_example['input_ids']])"
   ]
  },
  {
   "cell_type": "code",
   "execution_count": 70,
   "metadata": {},
   "outputs": [
    {
     "data": {
      "text/plain": [
       "tensor([[-2.1733e-01,  3.2970e-01,  2.2559e-01,  2.8985e-01, -8.1678e-01,\n",
       "          8.1065e-01, -3.6894e-01, -9.0602e-01,  2.3784e-01,  1.8168e-01,\n",
       "         -1.6345e-01, -1.5461e-01,  6.6307e-01, -9.3202e-01,  9.7764e-01,\n",
       "         -9.8564e-01,  9.1014e-01,  5.0319e-02,  5.4382e-01,  3.9192e-01,\n",
       "         -7.3268e-01,  3.9909e-01,  7.1324e-01,  3.2642e-01, -3.1421e-03,\n",
       "          1.3676e-01, -1.7935e-01,  1.9134e-01,  3.3253e-01, -9.2185e-01,\n",
       "         -9.7621e-01,  2.3772e-01,  7.5273e-01, -1.6219e-01,  7.8046e-03,\n",
       "          9.3275e-01,  9.8298e-01, -4.8953e-01,  5.6169e-01,  9.8756e-01,\n",
       "         -1.9710e-01, -1.2288e-01,  9.9522e-01, -1.5650e-01, -8.6254e-02,\n",
       "          2.4572e-01,  1.0882e-01,  7.8125e-01,  1.3308e-01,  1.1812e-02,\n",
       "         -4.6314e-01, -1.7602e-01,  7.0567e-01,  2.7290e-01,  1.5882e-01,\n",
       "         -3.0335e-01,  7.3645e-05,  7.7525e-01, -2.4624e-01, -1.6483e-01,\n",
       "          1.1258e-01, -3.3889e-01, -1.3970e-01, -7.2100e-01,  6.9226e-02,\n",
       "          3.0577e-01, -7.7225e-02,  3.3156e-02,  5.6235e-02,  5.2826e-01,\n",
       "          5.4533e-01,  9.3821e-01, -1.0298e-01, -9.2737e-02, -8.8982e-01,\n",
       "         -1.8018e-01,  5.0947e-01, -2.1069e-01, -1.6971e-01, -1.8646e-01,\n",
       "         -2.2621e-01, -9.9266e-01, -1.8442e-01,  4.6151e-01, -2.4126e-01,\n",
       "          1.2570e-01,  8.7745e-02,  9.7475e-01,  3.2769e-02,  9.8017e-01,\n",
       "          3.8001e-01, -7.3392e-01, -7.0378e-01, -1.1809e-01, -4.2310e-01,\n",
       "         -1.7932e-01,  1.7086e-01,  6.6389e-02,  5.0590e-02, -1.1616e-01,\n",
       "         -9.5444e-01,  2.1818e-01,  9.2370e-02,  4.5184e-01, -2.3945e-01,\n",
       "         -2.5329e-01, -3.4681e-01,  9.9750e-01, -2.4834e-01, -6.0621e-01,\n",
       "         -5.0610e-02, -9.2628e-01, -9.3747e-01,  5.6173e-01,  1.7386e-02,\n",
       "         -8.3653e-01,  6.2587e-01, -6.8277e-03, -1.1136e-01, -1.1081e-01,\n",
       "          2.0273e-01, -1.2725e-01,  1.9309e-01,  2.5698e-01,  8.2893e-01,\n",
       "         -1.5615e-01,  5.5276e-02,  9.7324e-01, -3.3315e-01, -9.3212e-01,\n",
       "         -9.1151e-01,  3.0522e-01,  9.6331e-01,  6.2723e-04, -3.0084e-01,\n",
       "          1.5367e-01, -7.6533e-01,  2.7850e-01, -1.5162e-01, -9.1124e-01,\n",
       "          2.0416e-01, -7.5844e-03, -9.8215e-01, -9.1784e-03,  4.2049e-02,\n",
       "          2.7890e-01, -7.0165e-02,  2.1793e-01,  1.5655e-01, -4.1351e-01,\n",
       "          2.7364e-02, -9.7966e-01, -9.9469e-01, -2.0645e-01, -2.6567e-01,\n",
       "          8.0843e-01,  1.8775e-01, -4.9323e-01, -1.3365e-01,  7.4179e-01,\n",
       "         -2.8112e-01, -2.4650e-01, -1.5241e-01, -7.9460e-01, -7.7803e-02,\n",
       "         -1.2746e-01, -1.0015e-01, -1.3768e-01,  9.2912e-01, -7.1756e-01,\n",
       "          9.8840e-01, -2.0733e-01, -7.5956e-01,  1.3139e-01,  1.1088e-01,\n",
       "         -1.8824e-02,  2.8730e-01, -4.7642e-01, -1.8979e-01, -1.3749e-02,\n",
       "          1.2035e-02,  8.1056e-01,  7.7050e-01, -8.5861e-01,  1.6051e-01,\n",
       "         -9.1034e-01, -5.1252e-01, -9.3290e-01, -9.9674e-01, -6.2097e-02,\n",
       "          3.5938e-01,  4.8074e-01,  1.8572e-01, -5.0620e-02, -9.6233e-01,\n",
       "          2.0776e-01, -1.2409e-01,  9.8721e-01,  4.7809e-01, -7.3079e-01,\n",
       "          4.3198e-01, -1.7712e-02, -1.2903e-01,  4.1546e-01, -2.4894e-01,\n",
       "          1.7715e-01,  4.3625e-03, -3.7364e-02, -1.0083e-01,  2.4872e-01,\n",
       "         -9.0892e-01, -5.0103e-01, -1.8049e-01,  9.5655e-01,  9.7394e-01,\n",
       "         -5.1551e-01,  4.4110e-01,  1.3395e-01,  5.1436e-01,  2.3056e-01,\n",
       "         -6.8517e-02, -2.5886e-01, -9.6453e-02, -2.2485e-01,  6.6364e-01,\n",
       "         -9.6276e-01,  3.7307e-01,  6.3785e-02,  9.9037e-01,  4.8454e-02,\n",
       "         -1.2557e-01, -3.9121e-02, -8.3030e-01,  8.5136e-02,  2.1213e-01,\n",
       "          9.8401e-01, -7.0880e-01,  9.8790e-01, -3.2327e-01,  4.5021e-01,\n",
       "          3.4158e-01,  1.2862e-01,  9.3453e-01, -6.5714e-01, -3.5513e-01,\n",
       "         -4.2394e-01,  3.3389e-02,  3.4639e-02, -2.3233e-01,  2.2391e-01,\n",
       "          5.1300e-01,  1.7810e-01,  8.8769e-01, -1.7618e-01, -7.3087e-01,\n",
       "         -2.8171e-01, -2.0554e-01, -3.1626e-03, -8.3786e-02, -9.2342e-01,\n",
       "          9.7470e-01,  2.1734e-01, -1.8784e-01, -5.7436e-01,  8.7155e-01,\n",
       "         -9.9600e-01, -3.0875e-03,  6.5273e-01,  2.8858e-01,  8.8641e-02,\n",
       "          9.7035e-01, -9.7165e-02, -3.6135e-01,  4.0435e-01, -1.2584e-01,\n",
       "          7.5973e-01, -9.4713e-01,  1.0166e-01,  4.0780e-01, -3.4890e-02,\n",
       "         -8.7366e-01,  9.9257e-01,  4.0898e-01,  8.2140e-01,  9.5260e-01,\n",
       "         -5.1493e-01,  2.4742e-01,  4.1620e-01,  2.6773e-01,  8.5692e-01,\n",
       "          2.9238e-01, -9.1370e-01,  2.9950e-01, -5.5364e-01, -6.8965e-01,\n",
       "         -9.7743e-01,  3.6967e-01,  2.3532e-01, -5.8004e-01, -1.9410e-01,\n",
       "         -6.6056e-02,  1.6316e-01,  2.4932e-01, -3.6894e-01, -4.9653e-01,\n",
       "         -1.2054e-01,  9.7822e-01,  3.2236e-01,  1.2584e-01,  1.6111e-01,\n",
       "         -1.2048e-01, -2.1572e-01, -5.3945e-01,  5.8574e-01, -8.7413e-01,\n",
       "          9.5595e-01,  3.0157e-01,  7.7933e-01,  8.3588e-01,  4.0034e-01,\n",
       "         -9.8816e-01, -4.1322e-01,  5.2269e-02,  9.8144e-01,  7.1482e-02,\n",
       "          2.9919e-01, -1.0258e-01, -2.4169e-01, -8.3372e-01, -6.7421e-01,\n",
       "         -2.7147e-01, -8.7626e-01, -1.7326e-01, -3.1587e-01, -6.1405e-01,\n",
       "          1.3477e-01, -8.7695e-01,  6.0781e-02, -3.6411e-01, -1.9017e-04,\n",
       "          9.1671e-01,  9.9088e-01, -8.0290e-01, -3.5800e-01, -9.9761e-01,\n",
       "          4.5983e-01, -3.4640e-02,  8.5819e-01,  9.9741e-03,  8.2536e-01,\n",
       "         -2.6148e-01,  1.5474e-01,  8.5103e-03,  1.0582e-02,  1.6243e-01,\n",
       "          9.7431e-01, -1.0157e-02, -8.0352e-01, -2.0780e-02, -3.3845e-01,\n",
       "          4.6827e-01,  7.9913e-01,  3.3832e-01, -1.1578e-01,  1.1327e-01,\n",
       "          1.4964e-02,  8.3996e-01,  3.0341e-01,  9.7260e-01, -6.8993e-01,\n",
       "         -9.7016e-01, -2.7278e-01, -2.4554e-01, -3.3800e-01,  1.3062e-01,\n",
       "          1.8535e-01, -1.5273e-01, -9.6299e-01,  9.4710e-01, -8.4374e-02,\n",
       "         -1.3168e-01,  6.5626e-02, -1.0948e-01,  1.6759e-01,  1.6786e-01,\n",
       "          1.5861e-01,  9.7628e-01,  9.8881e-01,  1.6553e-02, -1.0881e-01,\n",
       "         -4.7150e-01, -1.5179e-02, -8.2510e-01,  9.7413e-01,  9.1000e-01,\n",
       "         -3.4561e-01, -6.0401e-01,  5.4495e-01,  8.9872e-01,  7.7136e-01,\n",
       "         -2.0234e-01, -4.2968e-01,  2.1810e-01,  2.2112e-01, -2.5921e-01,\n",
       "          2.1671e-01,  2.3763e-02, -9.6468e-01,  9.8704e-01, -2.5722e-01,\n",
       "         -2.6719e-02,  7.7007e-01, -6.3593e-01, -1.8307e-01,  9.7358e-01,\n",
       "         -8.6307e-01,  4.3076e-01,  9.5404e-04,  2.3222e-01,  9.3351e-01,\n",
       "          5.3648e-01, -9.9038e-01, -9.2957e-01,  5.7946e-01, -3.3408e-01,\n",
       "         -8.3669e-01,  5.6002e-01,  2.3264e-01,  3.5851e-01, -8.1046e-02,\n",
       "         -8.2108e-02, -6.7888e-01, -2.5653e-02, -7.9334e-02, -1.9820e-01,\n",
       "         -4.3595e-01,  6.8475e-03,  2.9049e-01, -9.7480e-01, -1.9073e-01,\n",
       "         -9.8418e-01,  2.9173e-01, -9.5488e-01, -5.3924e-02, -2.8062e-01,\n",
       "         -4.9733e-02,  7.7819e-02,  4.7172e-02,  8.2447e-01, -3.6105e-02,\n",
       "          3.2452e-01,  3.2115e-01,  3.2419e-01, -1.6701e-01,  9.4860e-02,\n",
       "          2.2683e-01,  5.4255e-01,  2.9470e-01, -7.9266e-01, -9.9435e-01,\n",
       "         -8.4833e-02,  9.8818e-01,  9.9059e-01,  3.1727e-02,  8.3590e-01,\n",
       "          2.2802e-01,  9.7188e-01,  1.2539e-01,  7.9242e-01,  9.7255e-01,\n",
       "          1.8320e-01, -9.6908e-01, -2.9168e-01, -2.7212e-01,  8.4890e-02,\n",
       "          6.4274e-02,  3.4192e-01,  1.8434e-01, -7.2621e-01, -2.6898e-01,\n",
       "         -5.9975e-02, -4.3369e-01, -7.2797e-01, -1.0590e-01,  3.1028e-01,\n",
       "         -7.2482e-01,  1.6501e-01,  9.1327e-01,  2.7776e-01, -5.8596e-02,\n",
       "          1.7572e-01,  2.5060e-01, -9.7126e-03,  1.6869e-01,  8.4755e-01,\n",
       "          9.0027e-01,  2.1180e-01, -1.5830e-01,  7.1180e-01, -1.7746e-01,\n",
       "          9.5973e-01, -1.7491e-02, -1.8567e-01,  9.6952e-01, -9.2349e-01,\n",
       "         -8.0340e-01,  1.9217e-02, -6.6992e-01, -8.8426e-02,  1.0292e-02,\n",
       "          8.7459e-01,  8.9920e-01, -1.0917e-01, -4.8058e-01,  9.2530e-01,\n",
       "          2.2313e-01,  7.3136e-01, -9.2724e-01, -6.3720e-02,  9.7316e-01,\n",
       "         -1.7323e-01,  5.8628e-02, -3.4245e-01,  1.4880e-01,  9.6582e-01,\n",
       "         -2.0636e-01,  1.0746e-01, -1.2903e-01,  3.5324e-01, -9.7850e-01,\n",
       "          3.1669e-02,  1.5051e-01, -3.0829e-02, -3.7405e-02, -2.0076e-01,\n",
       "          4.3872e-01, -9.5860e-01, -2.0722e-01,  6.4897e-02, -1.6818e-01,\n",
       "         -3.1822e-01,  1.2278e-01,  1.3455e-01, -4.7421e-01, -9.8004e-01,\n",
       "          2.7955e-02, -4.3869e-02,  5.6833e-01, -8.2225e-03, -1.4503e-01,\n",
       "         -5.7137e-02, -7.0730e-02, -2.0442e-01,  2.3571e-01,  1.4735e-01,\n",
       "         -2.0047e-01, -6.8616e-02, -3.4061e-01, -4.9331e-01,  1.9673e-01,\n",
       "         -2.1365e-01,  6.8762e-02,  5.7678e-02,  5.7033e-02, -1.7417e-01,\n",
       "         -7.7296e-01,  8.5119e-02,  8.5710e-01,  1.5803e-01,  9.1593e-01,\n",
       "         -6.3006e-01, -3.3519e-01, -8.9952e-01,  1.2501e-01, -2.4985e-01,\n",
       "          3.4761e-01,  2.3328e-01,  2.2288e-02,  2.2050e-01, -6.6982e-01,\n",
       "          1.4509e-01,  1.6729e-01, -1.2789e-01,  3.0134e-01, -3.3417e-02,\n",
       "         -3.3826e-01,  2.1670e-01, -9.3997e-01,  9.6235e-01, -3.2436e-02,\n",
       "          2.1759e-01, -1.7363e-01,  1.8337e-01, -9.7173e-01,  9.4917e-01,\n",
       "         -1.2307e-01,  4.7656e-01,  9.3707e-01, -4.2579e-02,  9.8662e-01,\n",
       "          9.1935e-01,  7.9390e-01, -1.3018e-01,  2.0541e-01, -2.9248e-01,\n",
       "         -1.9205e-02,  4.3517e-01,  2.5021e-01,  1.2315e-02, -1.4315e-01,\n",
       "          7.9932e-01, -7.2878e-01, -1.9169e-02, -3.9817e-02,  4.8588e-02,\n",
       "          3.7468e-01,  1.8063e-01, -8.0292e-01, -2.5241e-01,  1.9635e-01,\n",
       "          6.1304e-01, -1.9905e-01, -1.4480e-01,  8.7136e-01,  3.9753e-01,\n",
       "          1.3021e-01, -9.8635e-02, -1.4410e-01, -2.2344e-01,  4.6142e-01,\n",
       "         -4.4560e-02,  1.9240e-01,  5.9410e-01, -7.8625e-01, -1.1399e-01,\n",
       "          9.7811e-01, -8.0070e-03, -4.5758e-02, -3.3182e-01,  6.7468e-02,\n",
       "          1.3416e-01, -7.0256e-01,  3.3056e-01,  1.2925e-02,  5.5900e-02,\n",
       "          7.5655e-01,  2.1693e-01,  3.5717e-02,  1.6399e-01, -6.5928e-03,\n",
       "          2.2114e-02,  2.5788e-01,  4.0909e-01,  6.8035e-01, -1.1149e-01,\n",
       "         -3.3937e-01,  6.6172e-01, -5.7548e-02,  3.0465e-01,  7.5068e-01,\n",
       "          6.7850e-02,  6.8664e-02, -1.1076e-01,  2.1344e-01, -8.7083e-01,\n",
       "         -7.6110e-03,  9.4424e-01, -5.8148e-01, -4.4576e-01,  1.2958e-01,\n",
       "         -8.4292e-01, -1.6635e-01,  5.0129e-01,  3.0530e-01,  9.9572e-01,\n",
       "         -8.4033e-02, -2.0376e-01, -9.8501e-01, -8.6894e-01, -9.8895e-01,\n",
       "          1.5142e-01, -1.9954e-01,  2.6746e-01, -9.5549e-01,  1.8529e-03,\n",
       "         -2.0233e-01, -3.9094e-01, -7.5666e-01,  3.1957e-01,  6.4617e-01,\n",
       "         -3.1079e-01, -1.5910e-01,  7.8766e-01, -8.9332e-02, -9.2989e-01,\n",
       "          2.4989e-01,  4.3994e-02, -4.5345e-01,  2.2341e-01, -3.0808e-01,\n",
       "         -1.4967e-01, -8.3792e-01, -6.5319e-01, -4.7652e-01, -4.6633e-01,\n",
       "         -8.2564e-01,  2.6217e-01,  5.8236e-02,  4.0826e-01,  6.3837e-01,\n",
       "         -2.8589e-02,  5.9076e-02,  2.2705e-01, -9.3142e-01, -8.8717e-01,\n",
       "          8.7166e-01,  1.9778e-01, -1.8310e-01,  2.1508e-01,  8.6605e-01,\n",
       "         -9.7920e-01, -2.2250e-01,  9.8333e-01, -3.4320e-01, -8.6999e-04,\n",
       "          3.1324e-01, -1.8759e-01, -1.4310e-01, -1.7730e-01,  2.7779e-01,\n",
       "          2.3937e-01, -1.4624e-01, -2.4919e-01, -2.7727e-01,  4.1918e-03,\n",
       "         -8.2751e-03, -1.7673e-01,  2.1162e-01, -3.5492e-01, -4.0617e-02,\n",
       "         -4.8070e-01,  4.0032e-01,  2.8839e-01, -7.1096e-02,  8.9993e-01,\n",
       "         -9.4814e-01, -7.3715e-01, -2.7983e-01,  2.6631e-01, -3.8944e-01,\n",
       "          1.1008e-01,  9.9007e-01,  1.1466e-01, -3.4093e-01,  7.5866e-01,\n",
       "          9.3075e-01, -9.4971e-01, -9.8144e-01, -2.0841e-01,  1.0698e-01,\n",
       "         -7.6453e-01, -4.4289e-01, -3.0787e-01, -1.8920e-01, -1.1880e-01,\n",
       "         -9.8876e-01, -9.5326e-01,  2.3849e-01]], grad_fn=<TanhBackward0>)"
      ]
     },
     "execution_count": 70,
     "metadata": {},
     "output_type": "execute_result"
    }
   ],
   "source": [
    "bert_model(input_ids).pooler_output"
   ]
  },
  {
   "cell_type": "code",
   "execution_count": 71,
   "metadata": {},
   "outputs": [
    {
     "name": "stdout",
     "output_type": "stream",
     "text": [
      "Cosine Similarity: 0.9746317863464355\n"
     ]
    }
   ],
   "source": [
    "import torch\n",
    "import torch.nn.functional as F\n",
    "\n",
    "# Tạo hai tensors\n",
    "tensor_A = torch.tensor([1, 2, 3], dtype=torch.float32)\n",
    "tensor_B = torch.tensor([4, 5, 6], dtype=torch.float32)\n",
    "\n",
    "# Reshape để chắc chắn rằng chúng có kích thước (1, 3)\n",
    "tensor_A = tensor_A.view(1, -1)\n",
    "tensor_B = tensor_B.view(1, -1)\n",
    "\n",
    "# Tính cosine similarity\n",
    "cosine_similarity = F.cosine_similarity(tensor_A, tensor_B)\n",
    "\n",
    "# similarity là một tensor, bạn có thể trích xuất giá trị như sau\n",
    "similarity_value = cosine_similarity.item()\n",
    "print(f\"Cosine Similarity: {similarity_value}\")\n"
   ]
  },
  {
   "cell_type": "code",
   "execution_count": 74,
   "metadata": {},
   "outputs": [
    {
     "name": "stdout",
     "output_type": "stream",
     "text": [
      "Số lượng dấu câu trong câu: 3\n"
     ]
    }
   ],
   "source": [
    "import string\n",
    "\n",
    "def dem_so_dau_cau(cau):\n",
    "    # Tạo một set chứa tất cả các dấu câu\n",
    "    dau_cau = set(string.punctuation)\n",
    "\n",
    "    # Đếm số lượng dấu câu trong câu\n",
    "    so_dau_cau = sum(1 for ky_tu in cau if ky_tu in dau_cau)\n",
    "\n",
    "    return so_dau_cau\n",
    "\n",
    "# Ví dụ sử dụng\n",
    "cau_mau = 'Beckham chia sẻ :  \"Thật đặc biệt và tự hào khi nói rằng Messi\"'\n",
    "\n",
    "so_dau_cau = dem_so_dau_cau(cau_mau)\n",
    "print(f\"Số lượng dấu câu trong câu: {so_dau_cau}\")\n"
   ]
  },
  {
   "cell_type": "code",
   "execution_count": 2,
   "metadata": {},
   "outputs": [],
   "source": [
    "from underthesea import sent_tokenize\n"
   ]
  },
  {
   "cell_type": "code",
   "execution_count": 5,
   "metadata": {},
   "outputs": [],
   "source": [
    "content = 'Messi đã vượt qua Haaland để trở thành chủ nhân của danh hiệu Quả bóng vàng 2023. Đây là lần thứ 8 El Pulga giành giải thưởng này. Một con số cho thấy sự vĩ đại của ngôi sao người Argentina. Không nằm ngoài dự đoán, Lionel Messi đã giành giải Quả bóng vàng 2023 của tạp chí France Football. Buổi lễ trao giải thưởng cao quý này diễn ra ở Nhà hát Chatelet (Paris, Pháp) vào đêm qua. Điều đặc biệt, người xướng tên và trao giải cho Messi là David Beckham, đồng sở hữu CLB Inter Miami. Chính Beckham là người có công lớn nhất đưa El Pulga sang Mỹ thi đấu, mở ra chương mới đầy thú vị trong sự nghiệp cầu thủ này. Đây là danh hiệu Quả bóng vàng thứ 8 trong sự nghiệp của Messi. Trước đó, siêu sao số 10 đã đăng quang vào các năm 2009, 2010, 2011, 2012, 2015, 2019 và 2021. Cầu thủ này đã nối dài kỷ lục vĩ đại khi trở thành cầu thủ giành nhiều Quả bóng vàng nhất trong sự nghiệp, vượt xa người xếp thứ hai là C.Ronaldo (5 lần). Thực tế, việc Messi giành giải Quả bóng vàng 2023 đã được dự đoán từ nhiều ngày trước buổi lễ. Siêu sao người Argentina đã trải qua năm thi đấu vô cùng thành công. Đặc biệt, Messi có công lớn giúp đội tuyển Argentina giành chức vô địch World Cup 2022 trên đất Qatar. Đó là giải đấu El Pulga tỏa sáng rực rỡ khi đóng góp tới 7 bàn thắng (trong đó có cú đúp trong trận chung kết với Pháp) để đưa Argentina lên đỉnh thế giới lần đầu tiên kể từ năm 1986. Anh đã giành giải Cầu thủ xuất sắc nhất World Cup 2022 sau màn trình diễn siêu hạng. Chính điều này giúp Messi được đánh giá cao hơn so với Erling Haaland trong cuộc đua Quả bóng vàng. Tiền đạo người Na Uy cũng trải qua một năm đầy ắp thành công cùng Man City với cú ăn ba lịch sử. Mặc dù vậy, theo đánh giá của nhiều chuyên gia, những danh hiệu của Haaland đã bị lu mờ bởi chức vô địch World Cup của Messi. Dù sao, Haaland cũng được an ủi khi nhận được danh hiệu Quả bóng bạc và giải Gerd Muller Trophy (dành cho tiền đạo xuất sắc nhất) trong buổi lễ trao giải. Trong khi đó, Kylian Mbappe giành Quả bóng đồng. Phát biểu trên bục nhận giải, Messi cho biết: \"Thật vui khi được đứng ở đây một lần nữa và tận hưởng khoảnh khắc này. Cảm ơn tới tất cả. Tôi muốn chia sẻ danh hiệu này với các đồng đội vì những đóng góp mang về thành công lớn cho đội tuyển Argentina. Tôi muốn cảm ơn ban huấn luyện cùng tất cả những người đã làm nên chiến tích vĩ đại của Argentina. Tôi không thể tưởng tượng được những gì mình đã đạt được trong sự nghiệp. Tôi may mắn khi trở thành một phần trong đội bóng xuất sắc nhất lịch sử. Chúng tôi đã giành hai chức vô địch Copa America và World Cup liên tiếp sau những thời khắc vô cùng khó khăn\". Nói về Messi, Beckham chia sẻ: \"Thật đặc biệt và tự hào khi nói rằng Messi là cầu thủ của Inter Miami và sinh sống ở thành phố Miami xinh đẹp. Anh ấy sẽ ăn mừng danh hiệu này cùng các đồng đội và gia đình theo cách của riêng mình. Chúng tôi cũng sẽ ăn mừng danh hiệu này theo cách của Miami. Tôi chắc chắc mọi người sẽ có buổi tiệc vui vẻ\". Trong khi đó, danh hiệu Quả bóng vàng dành cho nữ cầu thủ thuộc về Aitana Bonmati. Tiền vệ 25 tuổi này đã tỏa sáng rực rỡ giúp Barcelona vô địch Champions League nữ và đưa đội tuyển Tây Ban Nha giành chức vô địch World Cup nữ 2023. Danh hiệu Thủ môn xuất sắc nhất (Lev Yashin Trophy) thuộc về Emiliano Martinez. Cầu thủ này là điểm tựa chắc chắn giúp đội tuyển Argentina vô địch World Cup 2022. Giải thưởng Cầu thủ trẻ xuất sắc nhất (Kopa Trophy) thuộc về Jude Bellingham. Cầu thủ trẻ người Anh thi đấu vô cùng ấn tượng trong màu áo Real Madrid ở mùa giải này.'"
   ]
  },
  {
   "cell_type": "code",
   "execution_count": 6,
   "metadata": {},
   "outputs": [
    {
     "data": {
      "text/plain": [
       "['Messi đã vượt qua Haaland để trở thành chủ nhân của danh hiệu Quả bóng vàng 2023.',\n",
       " 'Đây là lần thứ 8 El Pulga giành giải thưởng này.',\n",
       " 'Một con số cho thấy sự vĩ đại của ngôi sao người Argentina.',\n",
       " 'Không nằm ngoài dự đoán, Lionel Messi đã giành giải Quả bóng vàng 2023 của tạp chí France Football.',\n",
       " 'Buổi lễ trao giải thưởng cao quý này diễn ra ở Nhà hát Chatelet (Paris, Pháp) vào đêm qua.',\n",
       " 'Điều đặc biệt, người xướng tên và trao giải cho Messi là David Beckham, đồng sở hữu CLB Inter Miami.',\n",
       " 'Chính Beckham là người có công lớn nhất đưa El Pulga sang Mỹ thi đấu, mở ra chương mới đầy thú vị trong sự nghiệp cầu thủ này.',\n",
       " 'Đây là danh hiệu Quả bóng vàng thứ 8 trong sự nghiệp của Messi.',\n",
       " 'Trước đó, siêu sao số 10 đã đăng quang vào các năm 2009, 2010, 2011, 2012, 2015, 2019 và 2021.',\n",
       " 'Cầu thủ này đã nối dài kỷ lục vĩ đại khi trở thành cầu thủ giành nhiều Quả bóng vàng nhất trong sự nghiệp, vượt xa người xếp thứ hai là C.Ronaldo (5 lần).',\n",
       " 'Thực tế, việc Messi giành giải Quả bóng vàng 2023 đã được dự đoán từ nhiều ngày trước buổi lễ.',\n",
       " 'Siêu sao người Argentina đã trải qua năm thi đấu vô cùng thành công.',\n",
       " 'Đặc biệt, Messi có công lớn giúp đội tuyển Argentina giành chức vô địch World Cup 2022 trên đất Qatar.',\n",
       " 'Đó là giải đấu El Pulga tỏa sáng rực rỡ khi đóng góp tới 7 bàn thắng (trong đó có cú đúp trong trận chung kết với Pháp) để đưa Argentina lên đỉnh thế giới lần đầu tiên kể từ năm 1986.',\n",
       " 'Anh đã giành giải Cầu thủ xuất sắc nhất World Cup 2022 sau màn trình diễn siêu hạng.',\n",
       " 'Chính điều này giúp Messi được đánh giá cao hơn so với Erling Haaland trong cuộc đua Quả bóng vàng.',\n",
       " 'Tiền đạo người Na Uy cũng trải qua một năm đầy ắp thành công cùng Man City với cú ăn ba lịch sử.',\n",
       " 'Mặc dù vậy, theo đánh giá của nhiều chuyên gia, những danh hiệu của Haaland đã bị lu mờ bởi chức vô địch World Cup của Messi.',\n",
       " 'Dù sao, Haaland cũng được an ủi khi nhận được danh hiệu Quả bóng bạc và giải Gerd Muller Trophy (dành cho tiền đạo xuất sắc nhất) trong buổi lễ trao giải.',\n",
       " 'Trong khi đó, Kylian Mbappe giành Quả bóng đồng.',\n",
       " 'Phát biểu trên bục nhận giải, Messi cho biết: \"Thật vui khi được đứng ở đây một lần nữa và tận hưởng khoảnh khắc này.',\n",
       " 'Cảm ơn tới tất cả.',\n",
       " 'Tôi muốn chia sẻ danh hiệu này với các đồng đội vì những đóng góp mang về thành công lớn cho đội tuyển Argentina.',\n",
       " 'Tôi muốn cảm ơn ban huấn luyện cùng tất cả những người đã làm nên chiến tích vĩ đại của Argentina.',\n",
       " 'Tôi không thể tưởng tượng được những gì mình đã đạt được trong sự nghiệp.',\n",
       " 'Tôi may mắn khi trở thành một phần trong đội bóng xuất sắc nhất lịch sử.',\n",
       " 'Chúng tôi đã giành hai chức vô địch Copa America và World Cup liên tiếp sau những thời khắc vô cùng khó khăn\".',\n",
       " 'Nói về Messi, Beckham chia sẻ: \"Thật đặc biệt và tự hào khi nói rằng Messi là cầu thủ của Inter Miami và sinh sống ở thành phố Miami xinh đẹp.',\n",
       " 'Anh ấy sẽ ăn mừng danh hiệu này cùng các đồng đội và gia đình theo cách của riêng mình.',\n",
       " 'Chúng tôi cũng sẽ ăn mừng danh hiệu này theo cách của Miami.',\n",
       " 'Tôi chắc chắc mọi người sẽ có buổi tiệc vui vẻ\".',\n",
       " 'Trong khi đó, danh hiệu Quả bóng vàng dành cho nữ cầu thủ thuộc về Aitana Bonmati.',\n",
       " 'Tiền vệ 25 tuổi này đã tỏa sáng rực rỡ giúp Barcelona vô địch Champions League nữ và đưa đội tuyển Tây Ban Nha giành chức vô địch World Cup nữ 2023.',\n",
       " 'Danh hiệu Thủ môn xuất sắc nhất (Lev Yashin Trophy) thuộc về Emiliano Martinez.',\n",
       " 'Cầu thủ này là điểm tựa chắc chắn giúp đội tuyển Argentina vô địch World Cup 2022.',\n",
       " 'Giải thưởng Cầu thủ trẻ xuất sắc nhất (Kopa Trophy) thuộc về Jude Bellingham.',\n",
       " 'Cầu thủ trẻ người Anh thi đấu vô cùng ấn tượng trong màu áo Real Madrid ở mùa giải này.']"
      ]
     },
     "execution_count": 6,
     "metadata": {},
     "output_type": "execute_result"
    }
   ],
   "source": [
    "sent_tokenize(content)"
   ]
  },
  {
   "cell_type": "code",
   "execution_count": 11,
   "metadata": {},
   "outputs": [],
   "source": [
    "my_dict = {'key': [1,2]}"
   ]
  },
  {
   "cell_type": "code",
   "execution_count": 12,
   "metadata": {},
   "outputs": [],
   "source": [
    "my_dict['key'].append(3)"
   ]
  },
  {
   "cell_type": "code",
   "execution_count": 13,
   "metadata": {},
   "outputs": [
    {
     "data": {
      "text/plain": [
       "{'key': [1, 2, 3]}"
      ]
     },
     "execution_count": 13,
     "metadata": {},
     "output_type": "execute_result"
    }
   ],
   "source": [
    "my_dict"
   ]
  },
  {
   "cell_type": "code",
   "execution_count": 18,
   "metadata": {},
   "outputs": [
    {
     "name": "stdout",
     "output_type": "stream",
     "text": [
      "{'Messi lần thứ 8 giành Quả bóng vàng': ['Lionel Messi lần thứ 8 giành Quả bóng vàng , lập kỷ lục vĩ đại'], 'Quả bóng vàng dành cho nữ cầu thủ thuộc về Aitana Bonmati': ['Lionel Messi lần thứ 8 giành Quả bóng vàng , lập kỷ lục vĩ đại']}\n"
     ]
    }
   ],
   "source": [
    "input_dict = {'Lionel Messi lần thứ 8 giành Quả bóng vàng , lập kỷ lục vĩ đại': ['Messi lần thứ 8 giành Quả bóng vàng', 'Quả bóng vàng dành cho nữ cầu thủ thuộc về Aitana Bonmati']}\n",
    "\n",
    "# input_dict = {'key1': ['value1', 'value2', 'value3'],\n",
    "#               'key2': ['value4', 'value5'],\n",
    "#               'key3': ['value6']}\n",
    "\n",
    "output_dict = {}\n",
    "\n",
    "for key, values in input_dict.items():\n",
    "    for value in values:\n",
    "        output_dict[value] = [key]\n",
    "\n",
    "print(output_dict)\n",
    "\n",
    "\n"
   ]
  },
  {
   "cell_type": "code",
   "execution_count": 19,
   "metadata": {},
   "outputs": [
    {
     "data": {
      "text/plain": [
       "[1, 3, 4, 2, 5, 6]"
      ]
     },
     "execution_count": 19,
     "metadata": {},
     "output_type": "execute_result"
    }
   ],
   "source": [
    "[1,3,4] + [2,5,6]"
   ]
  },
  {
   "cell_type": "code",
   "execution_count": 20,
   "metadata": {},
   "outputs": [],
   "source": [
    "from difflib import SequenceMatcher\n",
    "\n",
    "def similar(a, b):\n",
    "    return SequenceMatcher(None, a, b).ratio()"
   ]
  },
  {
   "cell_type": "code",
   "execution_count": 24,
   "metadata": {},
   "outputs": [
    {
     "data": {
      "text/plain": [
       "0.2716049382716049"
      ]
     },
     "execution_count": 24,
     "metadata": {},
     "output_type": "execute_result"
    }
   ],
   "source": [
    "similar('Quả bóng vàng dành cho nữ cầu thủ thuộc về Aitana Bonmati', 'Messi đoạt Quả Bóng Vàng')"
   ]
  }
 ],
 "metadata": {
  "kernelspec": {
   "display_name": "Event_module",
   "language": "python",
   "name": "python3"
  },
  "language_info": {
   "codemirror_mode": {
    "name": "ipython",
    "version": 3
   },
   "file_extension": ".py",
   "mimetype": "text/x-python",
   "name": "python",
   "nbconvert_exporter": "python",
   "pygments_lexer": "ipython3",
   "version": "3.9.18"
  },
  "orig_nbformat": 4
 },
 "nbformat": 4,
 "nbformat_minor": 2
}
