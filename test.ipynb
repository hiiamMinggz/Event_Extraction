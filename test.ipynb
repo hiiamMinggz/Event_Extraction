{
 "cells": [
  {
   "cell_type": "code",
   "execution_count": 4,
   "metadata": {},
   "outputs": [
    {
     "name": "stdout",
     "output_type": "stream",
     "text": [
      "Counter({'messi': 4, 'quả': 4, 'bóng': 4, 'của': 4, 'là': 4, 'giải': 4, 'thứ': 3, '8': 3, 'giành': 3, 'đã': 3, 'vàng': 3, 'sự': 3, 'người': 3, 'lionel': 2, 'lần': 2, 'vĩ': 2, 'đại': 2, 'danh': 2, 'hiệu': 2, 'đây': 2, 'el': 2, 'pulga': 2, 'thưởng': 2, 'này.': 2, 'số': 2, 'cho': 2, 'sao': 2, 'trao': 2, 'ra': 2, 'vào': 2, 'và': 2, 'trong': 2, 'nghiệp': 2, 'vàng,': 1, 'lập': 1, 'kỷ': 1, 'lục': 1, 'vượt': 1, 'qua': 1, 'haaland': 1, 'để': 1, 'trở': 1, 'thành': 1, 'chủ': 1, 'nhân': 1, '2023.': 1, 'một': 1, 'con': 1, 'thấy': 1, 'ngôi': 1, 'argentina': 1, 'không': 1, 'nằm': 1, 'ngoài': 1, 'dự': 1, 'đoán,': 1, '2023': 1, 'tạp': 1, 'chí': 1, 'france': 1, 'football.': 1, 'buổi': 1, 'lễ': 1, 'cao': 1, 'quý': 1, 'này': 1, 'diễn': 1, 'ở': 1, 'nhà': 1, 'hát': 1, 'chatelet': 1, '(paris,': 1, 'pháp)': 1, 'đêm': 1, 'qua.': 1, 'điều': 1, 'đặc': 1, 'biệt,': 1, 'xướng': 1, 'tên': 1, 'david': 1, 'beckham,': 1, 'đồng': 1, 'sở': 1, 'hữu': 1, 'clb': 1, 'inter': 1, 'miami.': 1, 'chính': 1, 'beckham': 1, 'có': 1, 'công': 1, 'lớn': 1, 'nhất': 1, 'đưa': 1, 'sang': 1, 'mỹ': 1, 'thi': 1, 'đấu,': 1, 'mở': 1, 'chương': 1, 'mới': 1, 'đầy': 1, 'thú': 1, 'vị': 1, 'cầu': 1, 'thủ': 1, 'messi.': 1, 'trước': 1, 'đó,': 1, 'siêu': 1, '10': 1, 'đăng': 1, 'quang': 1, 'các': 1, 'năm': 1, '2009,': 1, '2010,': 1, '2011,': 1, '2012,': 1, '2015,': 1, '2019': 1, '2021.': 1})\n"
     ]
    }
   ],
   "source": [
    "from underthesea import word_tokenize\n",
    "from collections import Counter\n",
    "\n",
    "string1 = 'lionel messi lần thứ 8 giành quả bóng vàng, lập kỷ lục vĩ đại'\n",
    "string2 = 'messi đã vượt qua haaland để trở thành chủ nhân của danh hiệu quả bóng vàng 2023. đây là lần thứ 8 el pulga giành giải thưởng này. một con số cho thấy sự vĩ đại của ngôi sao người argentina'\n",
    "list1 = ['không nằm ngoài dự đoán, lionel messi đã giành giải quả bóng vàng 2023 của tạp chí france football. buổi lễ trao giải thưởng cao quý này diễn ra ở nhà hát chatelet (paris, pháp) vào đêm qua.',\n",
    "         ' điều đặc biệt, người xướng tên và trao giải cho messi là david beckham, đồng sở hữu clb inter miami. chính beckham là người có công lớn nhất đưa el pulga sang mỹ thi đấu, mở ra chương mới đầy thú vị trong sự nghiệp cầu thủ này. ',\n",
    "         ' đây là danh hiệu quả bóng vàng thứ 8 trong sự nghiệp của messi. trước đó, siêu sao số 10 đã đăng quang vào các năm 2009, 2010, 2011, 2012, 2015, 2019 và 2021.']\n",
    "\n",
    "# Tạo một list chứa tất cả các từ từ cả 3 nguồn\n",
    "all_words = (string1 + ' ' + string2 + ' ' + ' '.join(list1)).split()\n",
    "\n",
    "# Sử dụng Counter để đếm tần suất xuất hiện của từng từ\n",
    "word_counts = Counter(all_words)\n",
    "\n",
    "# Hiển thị dict kết quả\n",
    "print(word_counts)\n"
   ]
  },
  {
   "cell_type": "code",
   "execution_count": 14,
   "metadata": {},
   "outputs": [
    {
     "name": "stdout",
     "output_type": "stream",
     "text": [
      "Counter({'messi': 5, 'quả': 4, 'bóng': 4, 'vàng': 4, 'của': 4, 'là': 4, 'giải': 4, 'thứ': 3, '8': 3, 'giành': 3, 'đã': 3, 'này': 3, 'sự': 3, 'người': 3, 'lionel': 2, 'lần': 2, 'vĩ': 2, 'đại': 2, 'qua': 2, 'danh': 2, 'hiệu': 2, '2023': 2, 'đây': 2, 'el': 2, 'pulga': 2, 'thưởng': 2, 'số': 2, 'cho': 2, 'sao': 2, 'trao': 2, 'ra': 2, 'vào': 2, 'và': 2, 'beckham': 2, 'trong': 2, 'nghiệp': 2, 'lập': 1, 'kỷ': 1, 'lục': 1, 'dân': 1, 'trí': 1, 'vượt': 1, 'haaland': 1, 'để': 1, 'trở': 1, 'thành': 1, 'chủ': 1, 'nhân': 1, 'một': 1, 'con': 1, 'thấy': 1, 'ngôi': 1, 'argentina': 1, 'không': 1, 'nằm': 1, 'ngoài': 1, 'dự': 1, 'đoán': 1, 'tạp': 1, 'chí': 1, 'france': 1, 'football': 1, 'buổi': 1, 'lễ': 1, 'cao': 1, 'quý': 1, 'diễn': 1, 'ở': 1, 'nhà': 1, 'hát': 1, 'chatelet': 1, 'paris': 1, 'pháp': 1, 'đêm': 1, 'điều': 1, 'đặc': 1, 'biệt': 1, 'xướng': 1, 'tên': 1, 'david': 1, 'đồng': 1, 'sở': 1, 'hữu': 1, 'clb': 1, 'inter': 1, 'miami': 1, 'chính': 1, 'có': 1, 'công': 1, 'lớn': 1, 'nhất': 1, 'đưa': 1, 'sang': 1, 'mỹ': 1, 'thi': 1, 'đấu': 1, 'mở': 1, 'chương': 1, 'mới': 1, 'đầy': 1, 'thú': 1, 'vị': 1, 'cầu': 1, 'thủ': 1, 'trước': 1, 'đó': 1, 'siêu': 1, '10': 1, 'đăng': 1, 'quang': 1, 'các': 1, 'năm': 1, '2009': 1, '2010': 1, '2011': 1, '2012': 1, '2015': 1, '2019': 1, '2021': 1})\n"
     ]
    }
   ],
   "source": [
    "from collections import Counter\n",
    "import re\n",
    "\n",
    "def count_word_frequency(*texts):\n",
    "    combined_text = \" \".join(texts)\n",
    "    words = re.findall(r'\\b\\w+\\b', combined_text.lower())\n",
    "    return Counter(words)\n",
    "\n",
    "# Ví dụ\n",
    "string1 = 'lionel messi lần thứ 8 giành quả bóng vàng lập kỷ lục vĩ đại'\n",
    "string2 = 'dân trí  messi đã vượt qua haaland để trở thành chủ nhân của danh hiệu quả bóng vàng 2023 đây là lần thứ 8 el pulga giành giải thưởng này một con số cho thấy sự vĩ đại của ngôi sao người argentina'\n",
    "list1 = ['không nằm ngoài dự đoán lionel messi đã giành giải quả bóng vàng 2023 của tạp chí france football buổi lễ trao giải thưởng cao quý này diễn ra ở nhà hát chatelet paris pháp vào đêm qua', ' điều đặc biệt người xướng tên và trao giải cho messi là david beckham đồng sở hữu clb inter miami chính beckham là người có công lớn nhất đưa el pulga sang mỹ thi đấu mở ra chương mới đầy thú vị trong sự nghiệp cầu thủ này ', ' đây là danh hiệu quả bóng vàng thứ 8 trong sự nghiệp của messi trước đó siêu sao số 10 đã đăng quang vào các năm 2009 2010 2011 2012 2015 2019 và 2021']\n",
    "\n",
    "frequency = count_word_frequency(string1, string2, *list1)\n",
    "print(frequency)\n"
   ]
  },
  {
   "cell_type": "code",
   "execution_count": 18,
   "metadata": {},
   "outputs": [],
   "source": [
    "\n",
    "def longest_common_substring_word_level(str1, str2):\n",
    "    # Tách từ trong hai chuỗi\n",
    "    words1 = str1.split()\n",
    "    words2 = str2.split()\n",
    "\n",
    "    # Tạo một ma trận để lưu độ dài của chuỗi con chung\n",
    "    matrix = [[0] * (len(words2) + 1) for _ in range(len(words1) + 1)]\n",
    "\n",
    "    # Biến lưu độ dài của chuỗi con dài nhất và chỉ mục của nó trong words1\n",
    "    max_length = 0\n",
    "    end_index = 0\n",
    "\n",
    "    for i in range(1, len(words1) + 1):\n",
    "        for j in range(1, len(words2) + 1):\n",
    "            if words1[i - 1] == words2[j - 1]:\n",
    "                matrix[i][j] = matrix[i - 1][j - 1] + 1\n",
    "                if matrix[i][j] > max_length:\n",
    "                    max_length = matrix[i][j]\n",
    "                    end_index = i - 1\n",
    "            else:\n",
    "                matrix[i][j] = 0\n",
    "\n",
    "    # Tìm chuỗi con dài nhất bằng cách trích xuất nó từ words1\n",
    "    if max_length > 0:\n",
    "        start_index = end_index - max_length + 1\n",
    "        longest_substring = \" \".join(words1[start_index:end_index + 1])\n",
    "    else:\n",
    "        longest_substring = \"\"\n",
    "\n",
    "    return longest_substring\n",
    "\n"
   ]
  },
  {
   "cell_type": "code",
   "execution_count": 34,
   "metadata": {},
   "outputs": [],
   "source": [
    "string1 = 'lionel messi lần thứ 8 giành quả bóng vàng lập kỷ lục vĩ đại'\n",
    "list1 = ['không nằm ngoài dự đoán lionel messi đã giành giải quả bóng vàng 2023 của tạp chí france football buổi lễ trao giải thưởng cao quý này diễn ra ở nhà hát chatelet paris pháp vào đêm qua', ' điều đặc biệt người xướng tên và trao giải cho messi là david beckham đồng sở hữu clb inter miami chính beckham là người có công lớn nhất đưa el pulga sang mỹ thi đấu mở ra chương mới đầy thú vị trong sự nghiệp cầu thủ này ', ' đây là danh hiệu quả bóng vàng thứ 8 trong sự nghiệp của messi trước đó siêu sao số 10 đã đăng quang vào các năm 2009 2010 2011 2012 2015 2019 và 2021','messi đã vượt qua haaland để trở thành chủ nhân của danh hiệu quả bóng vàng 2023 đây là lần thứ 8 el pulga giành giải thưởng này một con số cho thấy sự vĩ đại của ngôi sao người argentina']\n"
   ]
  },
  {
   "cell_type": "code",
   "execution_count": 35,
   "metadata": {},
   "outputs": [],
   "source": [
    "substrings = []\n",
    "for string in list1:\n",
    "    common = longest_common_substring_word_level(string1, string)\n",
    "    substrings.append(common)\n",
    "        "
   ]
  },
  {
   "cell_type": "code",
   "execution_count": 36,
   "metadata": {},
   "outputs": [
    {
     "data": {
      "text/plain": [
       "['quả bóng vàng', 'messi', 'quả bóng vàng', 'lần thứ 8']"
      ]
     },
     "execution_count": 36,
     "metadata": {},
     "output_type": "execute_result"
    }
   ],
   "source": [
    "substrings"
   ]
  },
  {
   "cell_type": "code",
   "execution_count": 37,
   "metadata": {},
   "outputs": [
    {
     "data": {
      "text/plain": [
       "'lionel messi lần thứ 8 giành quả bóng vàng lập kỷ lục vĩ đạikhông nằm ngoài dự đoán lionel messi đã giành giải quả bóng vàng 2023 của tạp chí france football buổi lễ trao giải thưởng cao quý này diễn ra ở nhà hát chatelet paris pháp vào đêm qua điều đặc biệt người xướng tên và trao giải cho messi là david beckham đồng sở hữu clb inter miami chính beckham là người có công lớn nhất đưa el pulga sang mỹ thi đấu mở ra chương mới đầy thú vị trong sự nghiệp cầu thủ này  đây là danh hiệu quả bóng vàng thứ 8 trong sự nghiệp của messi trước đó siêu sao số 10 đã đăng quang vào các năm 2009 2010 2011 2012 2015 2019 và 2021messi đã vượt qua haaland để trở thành chủ nhân của danh hiệu quả bóng vàng 2023 đây là lần thứ 8 el pulga giành giải thưởng này một con số cho thấy sự vĩ đại của ngôi sao người argentina'"
      ]
     },
     "execution_count": 37,
     "metadata": {},
     "output_type": "execute_result"
    }
   ],
   "source": [
    "whole_string = string1 + ''.join(list1)\n",
    "whole_string"
   ]
  },
  {
   "cell_type": "code",
   "execution_count": 42,
   "metadata": {},
   "outputs": [
    {
     "name": "stdout",
     "output_type": "stream",
     "text": [
      "{'messi': 1, 'quả bóng vàng': 0, 'lần thứ 8': 0}\n"
     ]
    }
   ],
   "source": [
    "from collections import Counter\n",
    "\n",
    "def count_word_occurrences(text, word_list):\n",
    "    # Chuyển đổi văn bản thành danh sách các từ (loại bỏ dấu câu và chuyển về chữ thường)\n",
    "    words = [word.lower() for word in text.split()]\n",
    "\n",
    "    # Đếm số lần xuất hiện của từng từ\n",
    "    word_counts = Counter(words)\n",
    "\n",
    "    # Tạo một từ điển với số lần xuất hiện của từng từ trong danh sách\n",
    "    result = {word: word_counts[word] for word in word_list}\n",
    "\n",
    "    return result\n",
    "\n",
    "# Ví dụ sử dụng\n",
    "list1 = ['messi', 'quả bóng vàng', 'lần thứ 8']\n",
    "string = 'lionel messi lần thứ 8 giành quả bóng vàng, lập kỷ lục vĩ đại...'\n",
    "\n",
    "result = count_word_occurrences(string, list1)\n",
    "print(result)\n"
   ]
  },
  {
   "cell_type": "code",
   "execution_count": 4,
   "metadata": {},
   "outputs": [
    {
     "name": "stdout",
     "output_type": "stream",
     "text": [
      "{'messi': 1, 'vàng': 1, 'lần': 1}\n"
     ]
    }
   ],
   "source": [
    "def count_substring_occurrences(main_string, substrings):\n",
    "    # Chuyển đổi main_string và substrings sang chữ thường để đảm bảo tính nhất quán\n",
    "\n",
    "    # Tạo một từ điển với key là substring và value là số lần xuất hiện\n",
    "    occurrences_dict = {substring: main_string.count(substring) for substring in substrings}\n",
    "    \n",
    "    return occurrences_dict\n",
    "\n",
    "# Ví dụ sử dụng\n",
    "main_string = 'lionel messi lần thứ 8 giành quả bóng vàng , lập kỷ lục vĩ đại...'\n",
    "substrings_to_count = ['messi', 'vàng', 'lần']\n",
    "\n",
    "occurrences_dict = count_substring_occurrences(main_string, substrings_to_count)\n",
    "print(occurrences_dict)\n"
   ]
  },
  {
   "cell_type": "code",
   "execution_count": 5,
   "metadata": {},
   "outputs": [
    {
     "name": "stdout",
     "output_type": "stream",
     "text": [
      "[(1, 1), (1, 2), (1, 3), (1, 4), (2, 1), (2, 2), (2, 3), (2, 4), (3, 1), (3, 2), (3, 3), (3, 4), (4, 1), (4, 2), (4, 3), (4, 4)]\n"
     ]
    }
   ],
   "source": [
    "from itertools import product\n",
    "\n",
    "my_list = [1, 2, 3, 4]\n",
    "\n",
    "combinations = list(product(my_list, repeat=2))\n",
    "print(combinations)\n"
   ]
  },
  {
   "cell_type": "code",
   "execution_count": 7,
   "metadata": {},
   "outputs": [
    {
     "name": "stdout",
     "output_type": "stream",
     "text": [
      "[(1, 2), (1, 3), (1, 4), (2, 1), (2, 3), (2, 4), (3, 1), (3, 2), (3, 4), (4, 1), (4, 2), (4, 3)]\n"
     ]
    }
   ],
   "source": [
    "from itertools import product\n",
    "\n",
    "my_list = [1, 2, 3, 4]\n",
    "\n",
    "combinations = list(product(my_list, repeat=2))\n",
    "\n",
    "filtered_combinations = [(x, y) for x, y in combinations if x != y]\n",
    "\n",
    "print(filtered_combinations)\n"
   ]
  },
  {
   "cell_type": "code",
   "execution_count": 12,
   "metadata": {},
   "outputs": [
    {
     "name": "stdout",
     "output_type": "stream",
     "text": [
      "messi lần thứ 8 giành quả bóng vàng\n"
     ]
    }
   ],
   "source": [
    "def get_substring_by_value(input_str, start_value, end_value):\n",
    "    start_index = input_str.find(start_value)\n",
    "    end_index = input_str.find(end_value, start_index) + len(end_value)\n",
    "    \n",
    "    return input_str[start_index:end_index]\n",
    "\n",
    "# Ví dụ sử dụng\n",
    "original_string = \"lionel messi lần thứ 8 giành quả bóng vàng , lập kỷ lục vĩ đại\"\n",
    "start_value = \"messi\"\n",
    "end_value = \"quả bóng vàng\"\n",
    "\n",
    "result = get_substring_by_value(original_string, start_value, end_value)\n",
    "print(result)\n"
   ]
  },
  {
   "cell_type": "code",
   "execution_count": 4,
   "metadata": {},
   "outputs": [
    {
     "name": "stdout",
     "output_type": "stream",
     "text": [
      "True\n",
      "False\n"
     ]
    }
   ],
   "source": [
    "def has_title_case_word(input_str):\n",
    "    words = input_str.split()\n",
    "    for word in words:\n",
    "        if word.istitle():\n",
    "            return True\n",
    "    return False\n",
    "\n",
    "# Ví dụ sử dụng\n",
    "text1 = \"Nga bất ngờ\"\n",
    "text2 = \"vĩ đại\"\n",
    "\n",
    "print(has_title_case_word(text1))  # Kết quả: True\n",
    "print(has_title_case_word(text2))  # Kết quả: False\n"
   ]
  },
  {
   "cell_type": "code",
   "execution_count": 7,
   "metadata": {},
   "outputs": [
    {
     "data": {
      "text/plain": [
       "'Ukraine nghi bị tập kích bằng tên lửa'"
      ]
     },
     "execution_count": 7,
     "metadata": {},
     "output_type": "execute_result"
    }
   ],
   "source": [
    "\n",
    "\n",
    "def get_title_case_position(text: str):\n",
    "    for word in string.split():\n",
    "        if word.istitle():\n",
    "            return text[text.index(word):]\n",
    "\n",
    "get_title_case_position(text = 'đô Ukraine nghi bị tập kích bằng tên lửa')"
   ]
  }
 ],
 "metadata": {
  "kernelspec": {
   "display_name": "Event_module",
   "language": "python",
   "name": "python3"
  },
  "language_info": {
   "codemirror_mode": {
    "name": "ipython",
    "version": 3
   },
   "file_extension": ".py",
   "mimetype": "text/x-python",
   "name": "python",
   "nbconvert_exporter": "python",
   "pygments_lexer": "ipython3",
   "version": "3.8.18"
  },
  "orig_nbformat": 4
 },
 "nbformat": 4,
 "nbformat_minor": 2
}
